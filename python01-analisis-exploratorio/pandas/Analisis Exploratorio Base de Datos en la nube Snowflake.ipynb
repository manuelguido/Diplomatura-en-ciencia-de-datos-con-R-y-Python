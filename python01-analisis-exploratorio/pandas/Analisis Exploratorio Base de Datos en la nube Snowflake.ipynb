{
 "cells": [
  {
   "cell_type": "code",
   "execution_count": 1,
   "metadata": {},
   "outputs": [
    {
     "ename": "SyntaxError",
     "evalue": "positional argument follows keyword argument (1430226281.py, line 9)",
     "output_type": "error",
     "traceback": [
      "\u001b[0;36m  Input \u001b[0;32mIn [1]\u001b[0;36m\u001b[0m\n\u001b[0;31m    account='Servidor',http....\u001b[0m\n\u001b[0m                           ^\u001b[0m\n\u001b[0;31mSyntaxError\u001b[0m\u001b[0;31m:\u001b[0m positional argument follows keyword argument\n"
     ]
    }
   ],
   "source": [
    "import pandas as pd\n",
    "import snowflake.connector\n",
    "\n",
    "\n",
    "# Conexión a la Base de datos\n",
    "conn = snowflake.connector.connect(\n",
    "                user='Usuario',\n",
    "                password='Clave',\n",
    "                account='Servidor',http....\n",
    "                mbre del Warehouse',\n",
    "                database='Nombre de la base de datos',\n",
    "                schema='Nombrwarehouse='Noe del esquema'\n",
    "                )\n",
    "\n",
    "# Creación del Cursor\n",
    "cur = conn.cursor()\n",
    "\n",
    "# Ejecución del Select \n",
    "cur.execute(\"select * from nombre de la tabla;\")\n",
    "pd_df = cur.fetch_pandas_all()"
   ]
  },
  {
   "cell_type": "code",
   "execution_count": null,
   "metadata": {},
   "outputs": [],
   "source": []
  }
 ],
 "metadata": {
  "kernelspec": {
   "display_name": "Python 3 (ipykernel)",
   "language": "python",
   "name": "python3"
  },
  "language_info": {
   "codemirror_mode": {
    "name": "ipython",
    "version": 3
   },
   "file_extension": ".py",
   "mimetype": "text/x-python",
   "name": "python",
   "nbconvert_exporter": "python",
   "pygments_lexer": "ipython3",
   "version": "3.9.12"
  }
 },
 "nbformat": 4,
 "nbformat_minor": 4
}
