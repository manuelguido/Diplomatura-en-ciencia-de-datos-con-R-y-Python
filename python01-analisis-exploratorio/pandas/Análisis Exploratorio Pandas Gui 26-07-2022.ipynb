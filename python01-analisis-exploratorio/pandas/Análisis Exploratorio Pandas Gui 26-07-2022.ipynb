{
 "cells": [
  {
   "cell_type": "markdown",
   "id": "ae47ad1d",
   "metadata": {},
   "source": [
    "pip install pandasgui"
   ]
  },
  {
   "cell_type": "code",
   "execution_count": 2,
   "id": "6525560b",
   "metadata": {},
   "outputs": [
    {
     "name": "stderr",
     "output_type": "stream",
     "text": [
      "PandasGUI INFO — pandasgui.gui — Opening PandasGUI\n"
     ]
    },
    {
     "data": {
      "text/plain": [
       "<pandasgui.gui.PandasGui at 0x17041fb1a60>"
      ]
     },
     "execution_count": 2,
     "metadata": {},
     "output_type": "execute_result"
    }
   ],
   "source": [
    "#pandasgui==0.2.13\n",
    "\n",
    "#Load Dataset\n",
    "import seaborn as sns\n",
    "mpg = sns.load_dataset('mpg')\n",
    "#Initiate the GUI\n",
    "from pandasgui import show\n",
    "show(mpg)"
   ]
  },
  {
   "cell_type": "code",
   "execution_count": null,
   "id": "a4bbf504",
   "metadata": {},
   "outputs": [],
   "source": []
  }
 ],
 "metadata": {
  "kernelspec": {
   "display_name": "Python 3",
   "language": "python",
   "name": "python3"
  },
  "language_info": {
   "codemirror_mode": {
    "name": "ipython",
    "version": 3
   },
   "file_extension": ".py",
   "mimetype": "text/x-python",
   "name": "python",
   "nbconvert_exporter": "python",
   "pygments_lexer": "ipython3",
   "version": "3.8.8"
  }
 },
 "nbformat": 4,
 "nbformat_minor": 5
}
