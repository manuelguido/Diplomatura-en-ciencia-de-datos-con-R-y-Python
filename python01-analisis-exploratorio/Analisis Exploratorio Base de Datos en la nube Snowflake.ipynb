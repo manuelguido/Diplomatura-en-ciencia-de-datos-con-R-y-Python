{
 "cells": [
  {
   "cell_type": "code",
   "execution_count": null,
   "metadata": {},
   "outputs": [],
   "source": [
    "import pandas as pd\n",
    "import snowflake.connector\n",
    "\n",
    "\n",
    "# Conexión a la Base de datos\n",
    "conn = snowflake.connector.connect(\n",
    "                user='Usuario',\n",
    "                password='Clave',\n",
    "                account='Servidor',http....\n",
    "                mbre del Warehouse',\n",
    "                database='Nombre de la base de datos',\n",
    "                schema='Nombrwarehouse='Noe del esquema'\n",
    "                )\n",
    "\n",
    "# Creación del Cursor\n",
    "cur = conn.cursor()\n",
    "\n",
    "# Ejecución del Select \n",
    "cur.execute(\"select * from nombre de la tabla;\")\n",
    "pd_df = cur.fetch_pandas_all()"
   ]
  }
 ],
 "metadata": {
  "kernelspec": {
   "display_name": "Python 3",
   "language": "python",
   "name": "python3"
  },
  "language_info": {
   "codemirror_mode": {
    "name": "ipython",
    "version": 3
   },
   "file_extension": ".py",
   "mimetype": "text/x-python",
   "name": "python",
   "nbconvert_exporter": "python",
   "pygments_lexer": "ipython3",
   "version": "3.8.3"
  }
 },
 "nbformat": 4,
 "nbformat_minor": 4
}
